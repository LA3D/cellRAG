{
 "cells": [
  {
   "cell_type": "code",
   "execution_count": null,
   "metadata": {},
   "outputs": [],
   "source": [
    "#| hide\n",
    "from cellRAG.core import *"
   ]
  },
  {
   "cell_type": "markdown",
   "metadata": {},
   "source": [
    "# cellRAG\n",
    "\n",
    "> A spatial memory system for robots using S2, LLMs, and knowledge graphs"
   ]
  },
  {
   "cell_type": "markdown",
   "metadata": {},
   "source": [
    "This file will become your README and also the index of your documentation."
   ]
  },
  {
   "cell_type": "markdown",
   "metadata": {},
   "source": [
    "## Developer Guide"
   ]
  },
  {
   "cell_type": "markdown",
   "metadata": {},
   "source": [
    "If you are new to using `nbdev` here are some useful pointers to get you started."
   ]
  },
  {
   "cell_type": "markdown",
   "metadata": {},
   "source": [
    "### Install cellRAG in Development mode"
   ]
  },
  {
   "cell_type": "markdown",
   "metadata": {},
   "source": [
    "```sh\n",
    "# Install uv\n",
    "curl -LsSf https://astral.sh/uv/install.sh | sh\n",
    "\n",
    "# Create and activate a virtual environment\n",
    "uv venv\n",
    "source .venv/bin/activate\n",
    "\n",
    "# Install the project in editable mode\n",
    "uv pip install -e \".[dev]\"\n",
    "\n",
    "# Install additional dependencies\n",
    "uv pip install nbdev jupyter\n",
    "```"
   ]
  },
  {
   "cell_type": "markdown",
   "metadata": {},
   "source": [
    "## Usage"
   ]
  },
  {
   "cell_type": "markdown",
   "metadata": {},
   "source": [
    "### Installation"
   ]
  },
  {
   "cell_type": "markdown",
   "metadata": {},
   "source": [
    "Install latest from the GitHub [repository][repo]:\n",
    "\n",
    "```sh\n",
    "$ pip install git+https://github.com/LA3D/cellRAG.git\n",
    "```\n",
    "\n",
    "\n",
    "[repo]: https://github.com/LA3D/cellRAG\n",
    "[docs]: https://LA3D.github.io/cellRAG/"
   ]
  },
  {
   "cell_type": "markdown",
   "metadata": {},
   "source": [
    "### Documentation"
   ]
  },
  {
   "cell_type": "markdown",
   "metadata": {},
   "source": [
    "Documentation can be found hosted on this GitHub [repository][repo]'s [pages][docs]. Additionally you can find package manager specific guidelines on [conda][conda] and [pypi][pypi] respectively.\n",
    "\n",
    "[repo]: https://github.com/LA3D/cellRAG\n",
    "[docs]: https://LA3D.github.io/cellRAG/\n",
    "[pypi]: https://pypi.org/project/cellRAG/\n",
    "[conda]: https://anaconda.org/LA3D/cellRAG"
   ]
  },
  {
   "cell_type": "markdown",
   "metadata": {},
   "source": [
    "## How to use"
   ]
  },
  {
   "cell_type": "markdown",
   "metadata": {},
   "source": [
    "Fill me in please! Don't forget code examples:"
   ]
  },
  {
   "cell_type": "code",
   "execution_count": null,
   "metadata": {},
   "outputs": [
    {
     "data": {
      "text/plain": [
       "2"
      ]
     },
     "execution_count": null,
     "metadata": {},
     "output_type": "execute_result"
    }
   ],
   "source": [
    "1+1"
   ]
  },
  {
   "cell_type": "markdown",
   "metadata": {},
   "source": [
    "## References\n",
    "\n",
    "- [Stephen, S., Faulk, M., Janowicz, K., Fisher, C., Thelen, T., Zhu, R., Hitzler, P., Shimizu, C., Currier, K., Schildhauer, M., Rehberger, D., Wang, Z., & Christou, A. (2024). The S2 hierarchical discrete global grid as a nexus for data representation, integration, and querying across geospatial Knowledge Graphs. In arXiv [cs.AI]. arXiv.](http://arxiv.org/abs/2410.1480)\n",
    "\n",
    "- [OGC GeoSPARQL - A Geographic Query Language for RDF Data](https://opengeospatial.github.io/ogc-geosparql/geosparql11/document.html)\n",
    "\n",
    "- [Hu, Y., Janowicz, K., Carral, D., Scheider, S., Kuhn, W., Berg-Cross, G., Hitzler, P., Dean, M., & Kolas, D. (2013). A Geo-ontology Design Pattern for Semantic Trajectories. Spatial Information Theory, 438–456. https://doi.org/10.1007/978-3-319-01790-7_24]()\n",
    "\n",
    "### Nuggets\n",
    "- [Edge, D., Trinh, H., Cheng, N., Bradley, J., Chao, A., Mody, A., Truitt, S., Metropolitansky, D., Ness, R. O., & Larson, J. (2024). From local to global: A graph RAG approach to query-focused summarization. In arXiv [cs.CL]. arXiv.](http://arxiv.org/abs/2404.16130)\n",
    "\n",
    "- [Guo, Z., Xia, L., Yu, Y., Ao, T., & Huang, C. (2024). LightRAG: Simple and fast retrieval-Augmented Generation. In arXiv [cs.IR]. arXiv.](http://arxiv.org/abs/2410.05779)\n",
    "\n",
    "- [KARMA: Leveraging Multi-Agent LLMs for Automated Knowledge Graph Enrichment. (n.d.). Retrieved February 26, 2025,](https://arxiv.org/html/2502.06472v1)\n",
    "\n",
    "- [Buehler, M. J. (2025). Agentic deep graph reasoning yields self-organizing knowledge networks. In arXiv [cs.AI]. arXiv.](http://arxiv.org/abs/2502.13025)\n",
    "\n",
    "- [Lu, P., Chen, B., Liu, S., Thapa, R., Boen, J., & Zou, J. (2025). OctoTools: An agentic framework with extensible tools for complex reasoning. In arXiv [cs.LG]. arXiv. http://arxiv.org/abs/2502.11271](http://arxiv.org/abs/2502.11271)\n",
    "\n",
    "- [Li, J., Lai, Y., Li, W., Ren, J., Zhang, M., Kang, X., Wang, S., Li, P., Zhang, Y.-Q., Ma, W., & Liu, Y. (2024). Agent Hospital: A simulacrum of hospital with evolvable medical agents. In arXiv [cs.AI]. arXiv. http://arxiv.org/abs/2405.02957](http://arxiv.org/abs/2405.02957)"
   ]
  }
 ],
 "metadata": {
  "kernelspec": {
   "display_name": "python3",
   "language": "python",
   "name": "python3"
  }
 },
 "nbformat": 4,
 "nbformat_minor": 4
}
